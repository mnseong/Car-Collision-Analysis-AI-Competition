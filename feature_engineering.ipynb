{
 "cells": [
  {
   "cell_type": "code",
   "execution_count": 278,
   "metadata": {
    "collapsed": true
   },
   "outputs": [],
   "source": [
    "import random\n",
    "import pandas as pd\n",
    "import numpy as np\n",
    "import os\n",
    "import cv2\n",
    "\n",
    "import torch\n",
    "import torch.nn as nn\n",
    "import torch.optim as optim\n",
    "import torch.nn.functional as F\n",
    "from torch.utils.data import Dataset, DataLoader\n",
    "\n",
    "import albumentations as A\n",
    "from albumentations.pytorch.transforms import ToTensorV2\n",
    "import torchvision.models as models\n",
    "\n",
    "from tqdm.auto import tqdm\n",
    "from sklearn.model_selection import train_test_split\n",
    "from sklearn.metrics import f1_score\n",
    "from sklearn.model_selection import StratifiedKFold\n",
    "\n",
    "import warnings\n",
    "warnings.filterwarnings(action='ignore')"
   ]
  },
  {
   "cell_type": "code",
   "execution_count": 279,
   "outputs": [
    {
     "name": "stdout",
     "output_type": "stream",
     "text": [
      "device : mps\n"
     ]
    }
   ],
   "source": [
    "device = torch.device(\"mps\") if torch.backends.mps.is_available() else \"cpu\"\n",
    "print(f\"device : {device}\")"
   ],
   "metadata": {
    "collapsed": false
   }
  },
  {
   "cell_type": "code",
   "execution_count": 280,
   "outputs": [],
   "source": [
    "CFG = {\n",
    "    'VIDEO_LENGTH':50,\n",
    "    'IMG_SIZE':128,\n",
    "    'EPOCHS':10,\n",
    "    'LEARNING_RATE':3e-4,\n",
    "    'BATCH_SIZE':4,\n",
    "    'SEED':42\n",
    "}"
   ],
   "metadata": {
    "collapsed": false
   }
  },
  {
   "cell_type": "code",
   "execution_count": 281,
   "outputs": [
    {
     "data": {
      "text/plain": "    sample_id              video_path  label\n0  TRAIN_0000  ./train/TRAIN_0000.mp4      7\n1  TRAIN_0001  ./train/TRAIN_0001.mp4      7\n2  TRAIN_0002  ./train/TRAIN_0002.mp4      0\n3  TRAIN_0003  ./train/TRAIN_0003.mp4      0\n4  TRAIN_0004  ./train/TRAIN_0004.mp4      1",
      "text/html": "<div>\n<style scoped>\n    .dataframe tbody tr th:only-of-type {\n        vertical-align: middle;\n    }\n\n    .dataframe tbody tr th {\n        vertical-align: top;\n    }\n\n    .dataframe thead th {\n        text-align: right;\n    }\n</style>\n<table border=\"1\" class=\"dataframe\">\n  <thead>\n    <tr style=\"text-align: right;\">\n      <th></th>\n      <th>sample_id</th>\n      <th>video_path</th>\n      <th>label</th>\n    </tr>\n  </thead>\n  <tbody>\n    <tr>\n      <th>0</th>\n      <td>TRAIN_0000</td>\n      <td>./train/TRAIN_0000.mp4</td>\n      <td>7</td>\n    </tr>\n    <tr>\n      <th>1</th>\n      <td>TRAIN_0001</td>\n      <td>./train/TRAIN_0001.mp4</td>\n      <td>7</td>\n    </tr>\n    <tr>\n      <th>2</th>\n      <td>TRAIN_0002</td>\n      <td>./train/TRAIN_0002.mp4</td>\n      <td>0</td>\n    </tr>\n    <tr>\n      <th>3</th>\n      <td>TRAIN_0003</td>\n      <td>./train/TRAIN_0003.mp4</td>\n      <td>0</td>\n    </tr>\n    <tr>\n      <th>4</th>\n      <td>TRAIN_0004</td>\n      <td>./train/TRAIN_0004.mp4</td>\n      <td>1</td>\n    </tr>\n  </tbody>\n</table>\n</div>"
     },
     "execution_count": 281,
     "metadata": {},
     "output_type": "execute_result"
    }
   ],
   "source": [
    "train_df = pd.read_csv('./input/train.csv')\n",
    "train_df.head()"
   ],
   "metadata": {
    "collapsed": false
   }
  },
  {
   "cell_type": "markdown",
   "source": [
    "Crash + Ego-involved Class\n",
    "0: Non-crash\n",
    "1: ego involved\n",
    "2: Non ego involved"
   ],
   "metadata": {
    "collapsed": false
   }
  },
  {
   "cell_type": "code",
   "execution_count": 282,
   "outputs": [],
   "source": [
    "# Non-crash\n",
    "df0 = train_df[train_df['label'] == 0]\n",
    "\n",
    "# ego involved\n",
    "df1 = train_df[train_df['label'] <= 6]\n",
    "df1 = df1[df1['label'] >= 1]\n",
    "df1['label'] = 1\n",
    "\n",
    "# Non ego involved\n",
    "df2 = train_df[train_df['label'] >= 7]\n",
    "df2['label'] = 2"
   ],
   "metadata": {
    "collapsed": false
   }
  },
  {
   "cell_type": "code",
   "execution_count": 283,
   "outputs": [],
   "source": [
    "crash_ego_df = pd.concat([df0, df1, df2])"
   ],
   "metadata": {
    "collapsed": false
   }
  },
  {
   "cell_type": "code",
   "execution_count": 284,
   "outputs": [
    {
     "data": {
      "text/plain": "       sample_id              video_path  label\n0     TRAIN_0000  ./train/TRAIN_0000.mp4      2\n1     TRAIN_0001  ./train/TRAIN_0001.mp4      2\n2     TRAIN_0002  ./train/TRAIN_0002.mp4      0\n3     TRAIN_0003  ./train/TRAIN_0003.mp4      0\n4     TRAIN_0004  ./train/TRAIN_0004.mp4      1\n...          ...                     ...    ...\n2693  TRAIN_2693  ./train/TRAIN_2693.mp4      1\n2694  TRAIN_2694  ./train/TRAIN_2694.mp4      1\n2695  TRAIN_2695  ./train/TRAIN_2695.mp4      0\n2696  TRAIN_2696  ./train/TRAIN_2696.mp4      0\n2697  TRAIN_2697  ./train/TRAIN_2697.mp4      0\n\n[2698 rows x 3 columns]",
      "text/html": "<div>\n<style scoped>\n    .dataframe tbody tr th:only-of-type {\n        vertical-align: middle;\n    }\n\n    .dataframe tbody tr th {\n        vertical-align: top;\n    }\n\n    .dataframe thead th {\n        text-align: right;\n    }\n</style>\n<table border=\"1\" class=\"dataframe\">\n  <thead>\n    <tr style=\"text-align: right;\">\n      <th></th>\n      <th>sample_id</th>\n      <th>video_path</th>\n      <th>label</th>\n    </tr>\n  </thead>\n  <tbody>\n    <tr>\n      <th>0</th>\n      <td>TRAIN_0000</td>\n      <td>./train/TRAIN_0000.mp4</td>\n      <td>2</td>\n    </tr>\n    <tr>\n      <th>1</th>\n      <td>TRAIN_0001</td>\n      <td>./train/TRAIN_0001.mp4</td>\n      <td>2</td>\n    </tr>\n    <tr>\n      <th>2</th>\n      <td>TRAIN_0002</td>\n      <td>./train/TRAIN_0002.mp4</td>\n      <td>0</td>\n    </tr>\n    <tr>\n      <th>3</th>\n      <td>TRAIN_0003</td>\n      <td>./train/TRAIN_0003.mp4</td>\n      <td>0</td>\n    </tr>\n    <tr>\n      <th>4</th>\n      <td>TRAIN_0004</td>\n      <td>./train/TRAIN_0004.mp4</td>\n      <td>1</td>\n    </tr>\n    <tr>\n      <th>...</th>\n      <td>...</td>\n      <td>...</td>\n      <td>...</td>\n    </tr>\n    <tr>\n      <th>2693</th>\n      <td>TRAIN_2693</td>\n      <td>./train/TRAIN_2693.mp4</td>\n      <td>1</td>\n    </tr>\n    <tr>\n      <th>2694</th>\n      <td>TRAIN_2694</td>\n      <td>./train/TRAIN_2694.mp4</td>\n      <td>1</td>\n    </tr>\n    <tr>\n      <th>2695</th>\n      <td>TRAIN_2695</td>\n      <td>./train/TRAIN_2695.mp4</td>\n      <td>0</td>\n    </tr>\n    <tr>\n      <th>2696</th>\n      <td>TRAIN_2696</td>\n      <td>./train/TRAIN_2696.mp4</td>\n      <td>0</td>\n    </tr>\n    <tr>\n      <th>2697</th>\n      <td>TRAIN_2697</td>\n      <td>./train/TRAIN_2697.mp4</td>\n      <td>0</td>\n    </tr>\n  </tbody>\n</table>\n<p>2698 rows × 3 columns</p>\n</div>"
     },
     "execution_count": 284,
     "metadata": {},
     "output_type": "execute_result"
    }
   ],
   "source": [
    "crash_ego_df = crash_ego_df.sort_index()\n",
    "crash_ego_df"
   ],
   "metadata": {
    "collapsed": false
   }
  },
  {
   "cell_type": "code",
   "execution_count": 285,
   "outputs": [
    {
     "data": {
      "text/plain": "       sample_id              video_path  label\n0     TRAIN_0000  ./train/TRAIN_0000.mp4      7\n1     TRAIN_0001  ./train/TRAIN_0001.mp4      7\n4     TRAIN_0004  ./train/TRAIN_0004.mp4      1\n6     TRAIN_0006  ./train/TRAIN_0006.mp4      3\n7     TRAIN_0007  ./train/TRAIN_0007.mp4      7\n...          ...                     ...    ...\n2685  TRAIN_2685  ./train/TRAIN_2685.mp4      8\n2689  TRAIN_2689  ./train/TRAIN_2689.mp4      1\n2692  TRAIN_2692  ./train/TRAIN_2692.mp4      7\n2693  TRAIN_2693  ./train/TRAIN_2693.mp4      3\n2694  TRAIN_2694  ./train/TRAIN_2694.mp4      5\n\n[915 rows x 3 columns]",
      "text/html": "<div>\n<style scoped>\n    .dataframe tbody tr th:only-of-type {\n        vertical-align: middle;\n    }\n\n    .dataframe tbody tr th {\n        vertical-align: top;\n    }\n\n    .dataframe thead th {\n        text-align: right;\n    }\n</style>\n<table border=\"1\" class=\"dataframe\">\n  <thead>\n    <tr style=\"text-align: right;\">\n      <th></th>\n      <th>sample_id</th>\n      <th>video_path</th>\n      <th>label</th>\n    </tr>\n  </thead>\n  <tbody>\n    <tr>\n      <th>0</th>\n      <td>TRAIN_0000</td>\n      <td>./train/TRAIN_0000.mp4</td>\n      <td>7</td>\n    </tr>\n    <tr>\n      <th>1</th>\n      <td>TRAIN_0001</td>\n      <td>./train/TRAIN_0001.mp4</td>\n      <td>7</td>\n    </tr>\n    <tr>\n      <th>4</th>\n      <td>TRAIN_0004</td>\n      <td>./train/TRAIN_0004.mp4</td>\n      <td>1</td>\n    </tr>\n    <tr>\n      <th>6</th>\n      <td>TRAIN_0006</td>\n      <td>./train/TRAIN_0006.mp4</td>\n      <td>3</td>\n    </tr>\n    <tr>\n      <th>7</th>\n      <td>TRAIN_0007</td>\n      <td>./train/TRAIN_0007.mp4</td>\n      <td>7</td>\n    </tr>\n    <tr>\n      <th>...</th>\n      <td>...</td>\n      <td>...</td>\n      <td>...</td>\n    </tr>\n    <tr>\n      <th>2685</th>\n      <td>TRAIN_2685</td>\n      <td>./train/TRAIN_2685.mp4</td>\n      <td>8</td>\n    </tr>\n    <tr>\n      <th>2689</th>\n      <td>TRAIN_2689</td>\n      <td>./train/TRAIN_2689.mp4</td>\n      <td>1</td>\n    </tr>\n    <tr>\n      <th>2692</th>\n      <td>TRAIN_2692</td>\n      <td>./train/TRAIN_2692.mp4</td>\n      <td>7</td>\n    </tr>\n    <tr>\n      <th>2693</th>\n      <td>TRAIN_2693</td>\n      <td>./train/TRAIN_2693.mp4</td>\n      <td>3</td>\n    </tr>\n    <tr>\n      <th>2694</th>\n      <td>TRAIN_2694</td>\n      <td>./train/TRAIN_2694.mp4</td>\n      <td>5</td>\n    </tr>\n  </tbody>\n</table>\n<p>915 rows × 3 columns</p>\n</div>"
     },
     "execution_count": 285,
     "metadata": {},
     "output_type": "execute_result"
    }
   ],
   "source": [
    "drop_non_crash = train_df[train_df['label'] >= 1]\n",
    "drop_non_crash"
   ],
   "metadata": {
    "collapsed": false
   }
  },
  {
   "cell_type": "markdown",
   "source": [
    "Timing Class\n",
    "0: Night\n",
    "1: Day"
   ],
   "metadata": {
    "collapsed": false
   }
  },
  {
   "cell_type": "code",
   "execution_count": 286,
   "outputs": [],
   "source": [
    "# Night\n",
    "df0 = drop_non_crash[drop_non_crash['label'] % 2 == 0]\n",
    "df0['label'] = 0\n",
    "\n",
    "# Day\n",
    "df1 = drop_non_crash[drop_non_crash['label'] % 2 == 1]\n",
    "df1['label'] = 1"
   ],
   "metadata": {
    "collapsed": false
   }
  },
  {
   "cell_type": "code",
   "execution_count": 287,
   "outputs": [
    {
     "data": {
      "text/plain": "       sample_id              video_path  label\n0     TRAIN_0000  ./train/TRAIN_0000.mp4      1\n1     TRAIN_0001  ./train/TRAIN_0001.mp4      1\n4     TRAIN_0004  ./train/TRAIN_0004.mp4      1\n6     TRAIN_0006  ./train/TRAIN_0006.mp4      1\n7     TRAIN_0007  ./train/TRAIN_0007.mp4      1\n...          ...                     ...    ...\n2685  TRAIN_2685  ./train/TRAIN_2685.mp4      0\n2689  TRAIN_2689  ./train/TRAIN_2689.mp4      1\n2692  TRAIN_2692  ./train/TRAIN_2692.mp4      1\n2693  TRAIN_2693  ./train/TRAIN_2693.mp4      1\n2694  TRAIN_2694  ./train/TRAIN_2694.mp4      1\n\n[915 rows x 3 columns]",
      "text/html": "<div>\n<style scoped>\n    .dataframe tbody tr th:only-of-type {\n        vertical-align: middle;\n    }\n\n    .dataframe tbody tr th {\n        vertical-align: top;\n    }\n\n    .dataframe thead th {\n        text-align: right;\n    }\n</style>\n<table border=\"1\" class=\"dataframe\">\n  <thead>\n    <tr style=\"text-align: right;\">\n      <th></th>\n      <th>sample_id</th>\n      <th>video_path</th>\n      <th>label</th>\n    </tr>\n  </thead>\n  <tbody>\n    <tr>\n      <th>0</th>\n      <td>TRAIN_0000</td>\n      <td>./train/TRAIN_0000.mp4</td>\n      <td>1</td>\n    </tr>\n    <tr>\n      <th>1</th>\n      <td>TRAIN_0001</td>\n      <td>./train/TRAIN_0001.mp4</td>\n      <td>1</td>\n    </tr>\n    <tr>\n      <th>4</th>\n      <td>TRAIN_0004</td>\n      <td>./train/TRAIN_0004.mp4</td>\n      <td>1</td>\n    </tr>\n    <tr>\n      <th>6</th>\n      <td>TRAIN_0006</td>\n      <td>./train/TRAIN_0006.mp4</td>\n      <td>1</td>\n    </tr>\n    <tr>\n      <th>7</th>\n      <td>TRAIN_0007</td>\n      <td>./train/TRAIN_0007.mp4</td>\n      <td>1</td>\n    </tr>\n    <tr>\n      <th>...</th>\n      <td>...</td>\n      <td>...</td>\n      <td>...</td>\n    </tr>\n    <tr>\n      <th>2685</th>\n      <td>TRAIN_2685</td>\n      <td>./train/TRAIN_2685.mp4</td>\n      <td>0</td>\n    </tr>\n    <tr>\n      <th>2689</th>\n      <td>TRAIN_2689</td>\n      <td>./train/TRAIN_2689.mp4</td>\n      <td>1</td>\n    </tr>\n    <tr>\n      <th>2692</th>\n      <td>TRAIN_2692</td>\n      <td>./train/TRAIN_2692.mp4</td>\n      <td>1</td>\n    </tr>\n    <tr>\n      <th>2693</th>\n      <td>TRAIN_2693</td>\n      <td>./train/TRAIN_2693.mp4</td>\n      <td>1</td>\n    </tr>\n    <tr>\n      <th>2694</th>\n      <td>TRAIN_2694</td>\n      <td>./train/TRAIN_2694.mp4</td>\n      <td>1</td>\n    </tr>\n  </tbody>\n</table>\n<p>915 rows × 3 columns</p>\n</div>"
     },
     "execution_count": 287,
     "metadata": {},
     "output_type": "execute_result"
    }
   ],
   "source": [
    "timing_df = pd.concat([df0, df1])\n",
    "timing_df = timing_df.sort_index()\n",
    "timing_df"
   ],
   "metadata": {
    "collapsed": false
   }
  },
  {
   "cell_type": "markdown",
   "source": [
    "Weather Class\n",
    "0: Normal\n",
    "1: Snowy\n",
    "2: Rainy"
   ],
   "metadata": {
    "collapsed": false
   }
  },
  {
   "cell_type": "code",
   "execution_count": 288,
   "outputs": [],
   "source": [
    "def define_weather(x):\n",
    "    if 1<=x<=2 or 7<=x<=8:\n",
    "        return 0\n",
    "    elif 3<=x<=4 or 9<=x<=10:\n",
    "        return 1\n",
    "    else:\n",
    "        return 2"
   ],
   "metadata": {
    "collapsed": false
   }
  },
  {
   "cell_type": "code",
   "execution_count": 289,
   "outputs": [
    {
     "data": {
      "text/plain": "       sample_id              video_path  label\n0     TRAIN_0000  ./train/TRAIN_0000.mp4      0\n1     TRAIN_0001  ./train/TRAIN_0001.mp4      0\n4     TRAIN_0004  ./train/TRAIN_0004.mp4      0\n6     TRAIN_0006  ./train/TRAIN_0006.mp4      1\n7     TRAIN_0007  ./train/TRAIN_0007.mp4      0\n...          ...                     ...    ...\n2685  TRAIN_2685  ./train/TRAIN_2685.mp4      0\n2689  TRAIN_2689  ./train/TRAIN_2689.mp4      0\n2692  TRAIN_2692  ./train/TRAIN_2692.mp4      0\n2693  TRAIN_2693  ./train/TRAIN_2693.mp4      1\n2694  TRAIN_2694  ./train/TRAIN_2694.mp4      2\n\n[915 rows x 3 columns]",
      "text/html": "<div>\n<style scoped>\n    .dataframe tbody tr th:only-of-type {\n        vertical-align: middle;\n    }\n\n    .dataframe tbody tr th {\n        vertical-align: top;\n    }\n\n    .dataframe thead th {\n        text-align: right;\n    }\n</style>\n<table border=\"1\" class=\"dataframe\">\n  <thead>\n    <tr style=\"text-align: right;\">\n      <th></th>\n      <th>sample_id</th>\n      <th>video_path</th>\n      <th>label</th>\n    </tr>\n  </thead>\n  <tbody>\n    <tr>\n      <th>0</th>\n      <td>TRAIN_0000</td>\n      <td>./train/TRAIN_0000.mp4</td>\n      <td>0</td>\n    </tr>\n    <tr>\n      <th>1</th>\n      <td>TRAIN_0001</td>\n      <td>./train/TRAIN_0001.mp4</td>\n      <td>0</td>\n    </tr>\n    <tr>\n      <th>4</th>\n      <td>TRAIN_0004</td>\n      <td>./train/TRAIN_0004.mp4</td>\n      <td>0</td>\n    </tr>\n    <tr>\n      <th>6</th>\n      <td>TRAIN_0006</td>\n      <td>./train/TRAIN_0006.mp4</td>\n      <td>1</td>\n    </tr>\n    <tr>\n      <th>7</th>\n      <td>TRAIN_0007</td>\n      <td>./train/TRAIN_0007.mp4</td>\n      <td>0</td>\n    </tr>\n    <tr>\n      <th>...</th>\n      <td>...</td>\n      <td>...</td>\n      <td>...</td>\n    </tr>\n    <tr>\n      <th>2685</th>\n      <td>TRAIN_2685</td>\n      <td>./train/TRAIN_2685.mp4</td>\n      <td>0</td>\n    </tr>\n    <tr>\n      <th>2689</th>\n      <td>TRAIN_2689</td>\n      <td>./train/TRAIN_2689.mp4</td>\n      <td>0</td>\n    </tr>\n    <tr>\n      <th>2692</th>\n      <td>TRAIN_2692</td>\n      <td>./train/TRAIN_2692.mp4</td>\n      <td>0</td>\n    </tr>\n    <tr>\n      <th>2693</th>\n      <td>TRAIN_2693</td>\n      <td>./train/TRAIN_2693.mp4</td>\n      <td>1</td>\n    </tr>\n    <tr>\n      <th>2694</th>\n      <td>TRAIN_2694</td>\n      <td>./train/TRAIN_2694.mp4</td>\n      <td>2</td>\n    </tr>\n  </tbody>\n</table>\n<p>915 rows × 3 columns</p>\n</div>"
     },
     "execution_count": 289,
     "metadata": {},
     "output_type": "execute_result"
    }
   ],
   "source": [
    "weather_df = pd.DataFrame(drop_non_crash)\n",
    "weather_df['label'] = drop_non_crash['label'].apply(define_weather)\n",
    "weather_df"
   ],
   "metadata": {
    "collapsed": false
   }
  }
 ],
 "metadata": {
  "kernelspec": {
   "display_name": "Python 3",
   "language": "python",
   "name": "python3"
  },
  "language_info": {
   "codemirror_mode": {
    "name": "ipython",
    "version": 2
   },
   "file_extension": ".py",
   "mimetype": "text/x-python",
   "name": "python",
   "nbconvert_exporter": "python",
   "pygments_lexer": "ipython2",
   "version": "2.7.6"
  }
 },
 "nbformat": 4,
 "nbformat_minor": 0
}
